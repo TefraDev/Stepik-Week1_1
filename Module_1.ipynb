{
 "cells": [
  {
   "cell_type": "code",
   "execution_count": 1,
   "id": "e69667eb",
   "metadata": {},
   "outputs": [],
   "source": [
    "import pandas as pd\n",
    "import numpy as np"
   ]
  },
  {
   "cell_type": "markdown",
   "id": "0ab338fd",
   "metadata": {},
   "source": [
    "Перечень заданий:\n",
    "\n",
    "1. Загрузить, посмотреть, определить количество строк и объединить 3 датасета: marketing_campaign.csv, users.csv и subscribers.csv.\n",
    "2. Определить типы и статистики колонок\n",
    "3. Определить эффективность маркетинговых каналов по привлечению платящих игроков\n",
    "4. Определить количество игроков в каждой возрастной группе\n",
    "5. Определить самую раннюю дату подписки на сервис\n",
    "6. Определить портрет аудитории удержанных подписчиков (по возрасту и языку)"
   ]
  },
  {
   "cell_type": "code",
   "execution_count": null,
   "id": "ccea9a98",
   "metadata": {},
   "outputs": [],
   "source": []
  },
  {
   "cell_type": "markdown",
   "id": "247742ff",
   "metadata": {},
   "source": [
    "<h2>Задание 1:"
   ]
  },
  {
   "cell_type": "markdown",
   "id": "62cd7b40",
   "metadata": {},
   "source": [
    "Загрузить, посмотреть, определить количество строк и объединить 3 датасета: \n",
    "marketing_campaign.csv, users.csv и subscribers.csv."
   ]
  },
  {
   "cell_type": "code",
   "execution_count": 3,
   "id": "891940f8",
   "metadata": {},
   "outputs": [],
   "source": [
    "marketing_campaign = pd.read_csv('marketing_campaign.csv')\n",
    "users = pd.read_csv('users.csv')\n",
    "subscribers = pd.read_csv('subscribers.csv')"
   ]
  },
  {
   "cell_type": "markdown",
   "id": "3aeaaaf5",
   "metadata": {},
   "source": [
    "<h4>Напишем простую функцию которая даст первичное описание обрабатываемых фреймов"
   ]
  },
  {
   "cell_type": "code",
   "execution_count": 22,
   "id": "183e6eec",
   "metadata": {},
   "outputs": [],
   "source": [
    "def info_checker(frames_list: list):\n",
    "    for el in frames_list:\n",
    "        print(el.head(3))\n",
    "        print(el.tail(3))\n",
    "        print(el.info())\n",
    "        print('-'*120)"
   ]
  },
  {
   "cell_type": "code",
   "execution_count": 23,
   "id": "63990677",
   "metadata": {},
   "outputs": [
    {
     "name": "stdout",
     "output_type": "stream",
     "text": [
      "  user_id date_served marketing_channel          variant language_displayed  \\\n",
      "0   a1000      1/1/18         House Ads  personalization            English   \n",
      "1   a1001      1/1/18         House Ads  personalization            English   \n",
      "2   a1002      1/1/18         House Ads  personalization            English   \n",
      "3   a1003      1/1/18         House Ads  personalization            English   \n",
      "4   a1004      1/1/18         House Ads  personalization            English   \n",
      "\n",
      "  converted  \n",
      "0      True  \n",
      "1      True  \n",
      "2      True  \n",
      "3      True  \n",
      "4      True  \n",
      "      user_id date_served marketing_channel  variant language_displayed  \\\n",
      "10032  a11032     1/17/18             Email  control             German   \n",
      "10033  a11033     1/17/18             Email  control             German   \n",
      "10034  a11034      1/5/18         Instagram  control             German   \n",
      "10035  a11035     1/17/18             Email  control             German   \n",
      "10036  a11036      1/6/18          Facebook  control             German   \n",
      "\n",
      "      converted  \n",
      "10032      True  \n",
      "10033      True  \n",
      "10034     False  \n",
      "10035      True  \n",
      "10036     False  \n",
      "<class 'pandas.core.frame.DataFrame'>\n",
      "RangeIndex: 10037 entries, 0 to 10036\n",
      "Data columns (total 6 columns):\n",
      " #   Column              Non-Null Count  Dtype \n",
      "---  ------              --------------  ----- \n",
      " 0   user_id             10037 non-null  object\n",
      " 1   date_served         10021 non-null  object\n",
      " 2   marketing_channel   10022 non-null  object\n",
      " 3   variant             10037 non-null  object\n",
      " 4   language_displayed  10037 non-null  object\n",
      " 5   converted           10022 non-null  object\n",
      "dtypes: object(6)\n",
      "memory usage: 470.6+ KB\n",
      "None\n",
      "------------------------------------------------------------------------------------------------------------------------\n",
      "  user_id    age_group language_preferred\n",
      "0   a1000   0-18 years            English\n",
      "1   a1001  19-24 years            English\n",
      "2   a1002  24-30 years            English\n",
      "3   a1003  30-36 years            English\n",
      "4   a1004  36-45 years            English\n",
      "      user_id    age_group language_preferred\n",
      "10032  a11032  45-55 years             German\n",
      "10033  a11033    55+ years             German\n",
      "10034  a11034    55+ years             German\n",
      "10035  a11035   0-18 years             German\n",
      "10036  a11036   0-18 years             German\n",
      "<class 'pandas.core.frame.DataFrame'>\n",
      "RangeIndex: 10037 entries, 0 to 10036\n",
      "Data columns (total 3 columns):\n",
      " #   Column              Non-Null Count  Dtype \n",
      "---  ------              --------------  ----- \n",
      " 0   user_id             10037 non-null  object\n",
      " 1   age_group           10037 non-null  object\n",
      " 2   language_preferred  10037 non-null  object\n",
      "dtypes: object(3)\n",
      "memory usage: 235.4+ KB\n",
      "None\n",
      "------------------------------------------------------------------------------------------------------------------------\n",
      "  user_id subscribing_channel date_subscribed date_canceled is_retained\n",
      "0   a1000           House Ads          1/1/18           NaN        True\n",
      "1   a1001           House Ads          1/1/18           NaN        True\n",
      "2   a1002           House Ads          1/1/18           NaN        True\n",
      "3   a1003           House Ads          1/1/18           NaN        True\n",
      "4   a1004           House Ads          1/1/18           NaN        True\n",
      "      user_id subscribing_channel date_subscribed date_canceled is_retained\n",
      "10032  a11032               Email         1/17/18       1/24/18       False\n",
      "10033  a11033               Email         1/17/18           NaN        True\n",
      "10034  a11034               Email         1/17/18           NaN        True\n",
      "10035  a11035               Email         1/17/18           NaN        True\n",
      "10036  a11036               Email         1/17/18           NaN        True\n",
      "<class 'pandas.core.frame.DataFrame'>\n",
      "RangeIndex: 10037 entries, 0 to 10036\n",
      "Data columns (total 5 columns):\n",
      " #   Column               Non-Null Count  Dtype \n",
      "---  ------               --------------  ----- \n",
      " 0   user_id              10037 non-null  object\n",
      " 1   subscribing_channel  1856 non-null   object\n",
      " 2   date_subscribed      1856 non-null   object\n",
      " 3   date_canceled        577 non-null    object\n",
      " 4   is_retained          1856 non-null   object\n",
      "dtypes: object(5)\n",
      "memory usage: 392.2+ KB\n",
      "None\n",
      "------------------------------------------------------------------------------------------------------------------------\n"
     ]
    }
   ],
   "source": [
    "info_checker([marketing_campaign, users, subscribers])"
   ]
  },
  {
   "cell_type": "markdown",
   "id": "6b292546",
   "metadata": {},
   "source": [
    "<h4> Из сводного описания видим:\n",
    "<h4>   - Колонка-ключ для объединения ячеек user_id - 10037 записей\n",
    "<h4>   - Среди других данных есть серии с меньшим числом колонок\n",
    "<h4>   - Объединение  будем проводить внешнее 'outer' чтобы не потерять данные при внутреннем 'inner' объединении.\n",
    "<h4>   - Также, есть возможность, что user_id в разных фреймах не полностью совпадает.\n"
   ]
  },
  {
   "cell_type": "code",
   "execution_count": 36,
   "id": "2417c296",
   "metadata": {},
   "outputs": [],
   "source": [
    "joined_data = marketing_campaign.merge(users, on='user_id', how='outer') \\\n",
    "                                .merge(subscribers, on='user_id', how='outer')"
   ]
  },
  {
   "cell_type": "code",
   "execution_count": 37,
   "id": "aaa84d48",
   "metadata": {},
   "outputs": [
    {
     "data": {
      "text/html": [
       "<div>\n",
       "<style scoped>\n",
       "    .dataframe tbody tr th:only-of-type {\n",
       "        vertical-align: middle;\n",
       "    }\n",
       "\n",
       "    .dataframe tbody tr th {\n",
       "        vertical-align: top;\n",
       "    }\n",
       "\n",
       "    .dataframe thead th {\n",
       "        text-align: right;\n",
       "    }\n",
       "</style>\n",
       "<table border=\"1\" class=\"dataframe\">\n",
       "  <thead>\n",
       "    <tr style=\"text-align: right;\">\n",
       "      <th></th>\n",
       "      <th>user_id</th>\n",
       "      <th>date_served</th>\n",
       "      <th>marketing_channel</th>\n",
       "      <th>variant</th>\n",
       "      <th>language_displayed</th>\n",
       "      <th>converted</th>\n",
       "      <th>age_group</th>\n",
       "      <th>language_preferred</th>\n",
       "      <th>subscribing_channel</th>\n",
       "      <th>date_subscribed</th>\n",
       "      <th>date_canceled</th>\n",
       "      <th>is_retained</th>\n",
       "    </tr>\n",
       "  </thead>\n",
       "  <tbody>\n",
       "    <tr>\n",
       "      <th>0</th>\n",
       "      <td>a1000</td>\n",
       "      <td>1/1/18</td>\n",
       "      <td>House Ads</td>\n",
       "      <td>personalization</td>\n",
       "      <td>English</td>\n",
       "      <td>True</td>\n",
       "      <td>0-18 years</td>\n",
       "      <td>English</td>\n",
       "      <td>House Ads</td>\n",
       "      <td>1/1/18</td>\n",
       "      <td>NaN</td>\n",
       "      <td>True</td>\n",
       "    </tr>\n",
       "    <tr>\n",
       "      <th>1</th>\n",
       "      <td>a1001</td>\n",
       "      <td>1/1/18</td>\n",
       "      <td>House Ads</td>\n",
       "      <td>personalization</td>\n",
       "      <td>English</td>\n",
       "      <td>True</td>\n",
       "      <td>19-24 years</td>\n",
       "      <td>English</td>\n",
       "      <td>House Ads</td>\n",
       "      <td>1/1/18</td>\n",
       "      <td>NaN</td>\n",
       "      <td>True</td>\n",
       "    </tr>\n",
       "    <tr>\n",
       "      <th>2</th>\n",
       "      <td>a1002</td>\n",
       "      <td>1/1/18</td>\n",
       "      <td>House Ads</td>\n",
       "      <td>personalization</td>\n",
       "      <td>English</td>\n",
       "      <td>True</td>\n",
       "      <td>24-30 years</td>\n",
       "      <td>English</td>\n",
       "      <td>House Ads</td>\n",
       "      <td>1/1/18</td>\n",
       "      <td>NaN</td>\n",
       "      <td>True</td>\n",
       "    </tr>\n",
       "  </tbody>\n",
       "</table>\n",
       "</div>"
      ],
      "text/plain": [
       "  user_id date_served marketing_channel          variant language_displayed  \\\n",
       "0   a1000      1/1/18         House Ads  personalization            English   \n",
       "1   a1001      1/1/18         House Ads  personalization            English   \n",
       "2   a1002      1/1/18         House Ads  personalization            English   \n",
       "\n",
       "  converted    age_group language_preferred subscribing_channel  \\\n",
       "0      True   0-18 years            English           House Ads   \n",
       "1      True  19-24 years            English           House Ads   \n",
       "2      True  24-30 years            English           House Ads   \n",
       "\n",
       "  date_subscribed date_canceled is_retained  \n",
       "0          1/1/18           NaN        True  \n",
       "1          1/1/18           NaN        True  \n",
       "2          1/1/18           NaN        True  "
      ]
     },
     "execution_count": 37,
     "metadata": {},
     "output_type": "execute_result"
    }
   ],
   "source": [
    "joined_data.head(3)"
   ]
  },
  {
   "cell_type": "code",
   "execution_count": 38,
   "id": "13ecf7b2",
   "metadata": {},
   "outputs": [
    {
     "data": {
      "text/html": [
       "<div>\n",
       "<style scoped>\n",
       "    .dataframe tbody tr th:only-of-type {\n",
       "        vertical-align: middle;\n",
       "    }\n",
       "\n",
       "    .dataframe tbody tr th {\n",
       "        vertical-align: top;\n",
       "    }\n",
       "\n",
       "    .dataframe thead th {\n",
       "        text-align: right;\n",
       "    }\n",
       "</style>\n",
       "<table border=\"1\" class=\"dataframe\">\n",
       "  <thead>\n",
       "    <tr style=\"text-align: right;\">\n",
       "      <th></th>\n",
       "      <th>user_id</th>\n",
       "      <th>date_served</th>\n",
       "      <th>marketing_channel</th>\n",
       "      <th>variant</th>\n",
       "      <th>language_displayed</th>\n",
       "      <th>converted</th>\n",
       "      <th>age_group</th>\n",
       "      <th>language_preferred</th>\n",
       "      <th>subscribing_channel</th>\n",
       "      <th>date_subscribed</th>\n",
       "      <th>date_canceled</th>\n",
       "      <th>is_retained</th>\n",
       "    </tr>\n",
       "  </thead>\n",
       "  <tbody>\n",
       "    <tr>\n",
       "      <th>10034</th>\n",
       "      <td>a11034</td>\n",
       "      <td>1/5/18</td>\n",
       "      <td>Instagram</td>\n",
       "      <td>control</td>\n",
       "      <td>German</td>\n",
       "      <td>False</td>\n",
       "      <td>55+ years</td>\n",
       "      <td>German</td>\n",
       "      <td>Email</td>\n",
       "      <td>1/17/18</td>\n",
       "      <td>NaN</td>\n",
       "      <td>True</td>\n",
       "    </tr>\n",
       "    <tr>\n",
       "      <th>10035</th>\n",
       "      <td>a11035</td>\n",
       "      <td>1/17/18</td>\n",
       "      <td>Email</td>\n",
       "      <td>control</td>\n",
       "      <td>German</td>\n",
       "      <td>True</td>\n",
       "      <td>0-18 years</td>\n",
       "      <td>German</td>\n",
       "      <td>Email</td>\n",
       "      <td>1/17/18</td>\n",
       "      <td>NaN</td>\n",
       "      <td>True</td>\n",
       "    </tr>\n",
       "    <tr>\n",
       "      <th>10036</th>\n",
       "      <td>a11036</td>\n",
       "      <td>1/6/18</td>\n",
       "      <td>Facebook</td>\n",
       "      <td>control</td>\n",
       "      <td>German</td>\n",
       "      <td>False</td>\n",
       "      <td>0-18 years</td>\n",
       "      <td>German</td>\n",
       "      <td>Email</td>\n",
       "      <td>1/17/18</td>\n",
       "      <td>NaN</td>\n",
       "      <td>True</td>\n",
       "    </tr>\n",
       "  </tbody>\n",
       "</table>\n",
       "</div>"
      ],
      "text/plain": [
       "      user_id date_served marketing_channel  variant language_displayed  \\\n",
       "10034  a11034      1/5/18         Instagram  control             German   \n",
       "10035  a11035     1/17/18             Email  control             German   \n",
       "10036  a11036      1/6/18          Facebook  control             German   \n",
       "\n",
       "      converted   age_group language_preferred subscribing_channel  \\\n",
       "10034     False   55+ years             German               Email   \n",
       "10035      True  0-18 years             German               Email   \n",
       "10036     False  0-18 years             German               Email   \n",
       "\n",
       "      date_subscribed date_canceled is_retained  \n",
       "10034         1/17/18           NaN        True  \n",
       "10035         1/17/18           NaN        True  \n",
       "10036         1/17/18           NaN        True  "
      ]
     },
     "execution_count": 38,
     "metadata": {},
     "output_type": "execute_result"
    }
   ],
   "source": [
    "joined_data.tail(3)"
   ]
  },
  {
   "cell_type": "code",
   "execution_count": 39,
   "id": "c288fa28",
   "metadata": {},
   "outputs": [
    {
     "name": "stdout",
     "output_type": "stream",
     "text": [
      "<class 'pandas.core.frame.DataFrame'>\n",
      "Int64Index: 10037 entries, 0 to 10036\n",
      "Data columns (total 12 columns):\n",
      " #   Column               Non-Null Count  Dtype \n",
      "---  ------               --------------  ----- \n",
      " 0   user_id              10037 non-null  object\n",
      " 1   date_served          10021 non-null  object\n",
      " 2   marketing_channel    10022 non-null  object\n",
      " 3   variant              10037 non-null  object\n",
      " 4   language_displayed   10037 non-null  object\n",
      " 5   converted            10022 non-null  object\n",
      " 6   age_group            10037 non-null  object\n",
      " 7   language_preferred   10037 non-null  object\n",
      " 8   subscribing_channel  1856 non-null   object\n",
      " 9   date_subscribed      1856 non-null   object\n",
      " 10  date_canceled        577 non-null    object\n",
      " 11  is_retained          1856 non-null   object\n",
      "dtypes: object(12)\n",
      "memory usage: 1019.4+ KB\n"
     ]
    }
   ],
   "source": [
    "joined_data.info()"
   ]
  },
  {
   "cell_type": "markdown",
   "id": "ecfaaa32",
   "metadata": {},
   "source": [
    "<h4> - Итоговое количество строк совпадает с исходным"
   ]
  },
  {
   "cell_type": "markdown",
   "id": "232ef348",
   "metadata": {},
   "source": [
    "<h2>Ответ на задание 1:\n",
    "<h3>Из отчета joined_data.info() видим количество строк 10037\n",
    "<h3>Объединенная таблица joined_data"
   ]
  },
  {
   "cell_type": "code",
   "execution_count": null,
   "id": "97178a31",
   "metadata": {},
   "outputs": [],
   "source": []
  },
  {
   "cell_type": "markdown",
   "id": "2f989da3",
   "metadata": {},
   "source": [
    "<h2>Задание 2:"
   ]
  },
  {
   "cell_type": "markdown",
   "id": "797331a1",
   "metadata": {},
   "source": [
    "Определить типы и статистики колонок"
   ]
  },
  {
   "cell_type": "code",
   "execution_count": 41,
   "id": "190e7e94",
   "metadata": {
    "scrolled": true
   },
   "outputs": [
    {
     "data": {
      "text/html": [
       "<div>\n",
       "<style scoped>\n",
       "    .dataframe tbody tr th:only-of-type {\n",
       "        vertical-align: middle;\n",
       "    }\n",
       "\n",
       "    .dataframe tbody tr th {\n",
       "        vertical-align: top;\n",
       "    }\n",
       "\n",
       "    .dataframe thead th {\n",
       "        text-align: right;\n",
       "    }\n",
       "</style>\n",
       "<table border=\"1\" class=\"dataframe\">\n",
       "  <thead>\n",
       "    <tr style=\"text-align: right;\">\n",
       "      <th></th>\n",
       "      <th>user_id</th>\n",
       "      <th>date_served</th>\n",
       "      <th>marketing_channel</th>\n",
       "      <th>variant</th>\n",
       "      <th>language_displayed</th>\n",
       "      <th>converted</th>\n",
       "      <th>age_group</th>\n",
       "      <th>language_preferred</th>\n",
       "      <th>subscribing_channel</th>\n",
       "      <th>date_subscribed</th>\n",
       "      <th>date_canceled</th>\n",
       "      <th>is_retained</th>\n",
       "    </tr>\n",
       "  </thead>\n",
       "  <tbody>\n",
       "    <tr>\n",
       "      <th>0</th>\n",
       "      <td>a1000</td>\n",
       "      <td>1/1/18</td>\n",
       "      <td>House Ads</td>\n",
       "      <td>personalization</td>\n",
       "      <td>English</td>\n",
       "      <td>True</td>\n",
       "      <td>0-18 years</td>\n",
       "      <td>English</td>\n",
       "      <td>House Ads</td>\n",
       "      <td>1/1/18</td>\n",
       "      <td>NaN</td>\n",
       "      <td>True</td>\n",
       "    </tr>\n",
       "    <tr>\n",
       "      <th>1</th>\n",
       "      <td>a1001</td>\n",
       "      <td>1/1/18</td>\n",
       "      <td>House Ads</td>\n",
       "      <td>personalization</td>\n",
       "      <td>English</td>\n",
       "      <td>True</td>\n",
       "      <td>19-24 years</td>\n",
       "      <td>English</td>\n",
       "      <td>House Ads</td>\n",
       "      <td>1/1/18</td>\n",
       "      <td>NaN</td>\n",
       "      <td>True</td>\n",
       "    </tr>\n",
       "    <tr>\n",
       "      <th>2</th>\n",
       "      <td>a1002</td>\n",
       "      <td>1/1/18</td>\n",
       "      <td>House Ads</td>\n",
       "      <td>personalization</td>\n",
       "      <td>English</td>\n",
       "      <td>True</td>\n",
       "      <td>24-30 years</td>\n",
       "      <td>English</td>\n",
       "      <td>House Ads</td>\n",
       "      <td>1/1/18</td>\n",
       "      <td>NaN</td>\n",
       "      <td>True</td>\n",
       "    </tr>\n",
       "  </tbody>\n",
       "</table>\n",
       "</div>"
      ],
      "text/plain": [
       "  user_id date_served marketing_channel          variant language_displayed  \\\n",
       "0   a1000      1/1/18         House Ads  personalization            English   \n",
       "1   a1001      1/1/18         House Ads  personalization            English   \n",
       "2   a1002      1/1/18         House Ads  personalization            English   \n",
       "\n",
       "  converted    age_group language_preferred subscribing_channel  \\\n",
       "0      True   0-18 years            English           House Ads   \n",
       "1      True  19-24 years            English           House Ads   \n",
       "2      True  24-30 years            English           House Ads   \n",
       "\n",
       "  date_subscribed date_canceled is_retained  \n",
       "0          1/1/18           NaN        True  \n",
       "1          1/1/18           NaN        True  \n",
       "2          1/1/18           NaN        True  "
      ]
     },
     "execution_count": 41,
     "metadata": {},
     "output_type": "execute_result"
    }
   ],
   "source": [
    "joined_data.head(3)"
   ]
  },
  {
   "cell_type": "code",
   "execution_count": 40,
   "id": "f4392ade",
   "metadata": {},
   "outputs": [
    {
     "data": {
      "text/html": [
       "<div>\n",
       "<style scoped>\n",
       "    .dataframe tbody tr th:only-of-type {\n",
       "        vertical-align: middle;\n",
       "    }\n",
       "\n",
       "    .dataframe tbody tr th {\n",
       "        vertical-align: top;\n",
       "    }\n",
       "\n",
       "    .dataframe thead th {\n",
       "        text-align: right;\n",
       "    }\n",
       "</style>\n",
       "<table border=\"1\" class=\"dataframe\">\n",
       "  <thead>\n",
       "    <tr style=\"text-align: right;\">\n",
       "      <th></th>\n",
       "      <th>user_id</th>\n",
       "      <th>date_served</th>\n",
       "      <th>marketing_channel</th>\n",
       "      <th>variant</th>\n",
       "      <th>language_displayed</th>\n",
       "      <th>converted</th>\n",
       "      <th>age_group</th>\n",
       "      <th>language_preferred</th>\n",
       "      <th>subscribing_channel</th>\n",
       "      <th>date_subscribed</th>\n",
       "      <th>date_canceled</th>\n",
       "      <th>is_retained</th>\n",
       "    </tr>\n",
       "  </thead>\n",
       "  <tbody>\n",
       "    <tr>\n",
       "      <th>count</th>\n",
       "      <td>10037</td>\n",
       "      <td>10021</td>\n",
       "      <td>10022</td>\n",
       "      <td>10037</td>\n",
       "      <td>10037</td>\n",
       "      <td>10022</td>\n",
       "      <td>10037</td>\n",
       "      <td>10037</td>\n",
       "      <td>1856</td>\n",
       "      <td>1856</td>\n",
       "      <td>577</td>\n",
       "      <td>1856</td>\n",
       "    </tr>\n",
       "    <tr>\n",
       "      <th>unique</th>\n",
       "      <td>10037</td>\n",
       "      <td>31</td>\n",
       "      <td>5</td>\n",
       "      <td>2</td>\n",
       "      <td>4</td>\n",
       "      <td>2</td>\n",
       "      <td>7</td>\n",
       "      <td>4</td>\n",
       "      <td>5</td>\n",
       "      <td>31</td>\n",
       "      <td>115</td>\n",
       "      <td>2</td>\n",
       "    </tr>\n",
       "    <tr>\n",
       "      <th>top</th>\n",
       "      <td>a1000</td>\n",
       "      <td>1/15/18</td>\n",
       "      <td>House Ads</td>\n",
       "      <td>control</td>\n",
       "      <td>English</td>\n",
       "      <td>False</td>\n",
       "      <td>19-24 years</td>\n",
       "      <td>English</td>\n",
       "      <td>Instagram</td>\n",
       "      <td>1/16/18</td>\n",
       "      <td>4/2/18</td>\n",
       "      <td>True</td>\n",
       "    </tr>\n",
       "    <tr>\n",
       "      <th>freq</th>\n",
       "      <td>1</td>\n",
       "      <td>789</td>\n",
       "      <td>4733</td>\n",
       "      <td>5091</td>\n",
       "      <td>9793</td>\n",
       "      <td>8946</td>\n",
       "      <td>1682</td>\n",
       "      <td>9275</td>\n",
       "      <td>600</td>\n",
       "      <td>163</td>\n",
       "      <td>15</td>\n",
       "      <td>1279</td>\n",
       "    </tr>\n",
       "  </tbody>\n",
       "</table>\n",
       "</div>"
      ],
      "text/plain": [
       "       user_id date_served marketing_channel  variant language_displayed  \\\n",
       "count    10037       10021             10022    10037              10037   \n",
       "unique   10037          31                 5        2                  4   \n",
       "top      a1000     1/15/18         House Ads  control            English   \n",
       "freq         1         789              4733     5091               9793   \n",
       "\n",
       "       converted    age_group language_preferred subscribing_channel  \\\n",
       "count      10022        10037              10037                1856   \n",
       "unique         2            7                  4                   5   \n",
       "top        False  19-24 years            English           Instagram   \n",
       "freq        8946         1682               9275                 600   \n",
       "\n",
       "       date_subscribed date_canceled is_retained  \n",
       "count             1856           577        1856  \n",
       "unique              31           115           2  \n",
       "top            1/16/18        4/2/18        True  \n",
       "freq               163            15        1279  "
      ]
     },
     "execution_count": 40,
     "metadata": {},
     "output_type": "execute_result"
    }
   ],
   "source": [
    "joined_data.describe()"
   ]
  },
  {
   "cell_type": "markdown",
   "id": "d5384338",
   "metadata": {},
   "source": [
    " Рассмотрев часть таблицы и просмотрев отчет describe делаем следующие выводы:\n",
    " - Тип данных - категориальные данные во всех колонках\n",
    " - Пользуясь статистикой колонок describe видим:\n",
    " - count - количество записей группы данных\n",
    " - unique - количество уникальных записей группы данных\n",
    " - top - самая частая категория записей (мода) группы данных\n",
    " - freq - количество повторений записей группы данных"
   ]
  },
  {
   "cell_type": "markdown",
   "id": "46dfbad0",
   "metadata": {},
   "source": [
    "<h2>Ответ на задание 2:\n",
    "<h6>Тип данных - категориальные\n",
    "<h6>Собран отчет по 4 характеристикам данных таблицы (count, unique, top, freq)"
   ]
  },
  {
   "cell_type": "code",
   "execution_count": null,
   "id": "54a076fa",
   "metadata": {},
   "outputs": [],
   "source": []
  },
  {
   "cell_type": "markdown",
   "id": "5ecbb088",
   "metadata": {},
   "source": [
    "<h2>Задание 3:"
   ]
  },
  {
   "cell_type": "markdown",
   "id": "8a700efe",
   "metadata": {},
   "source": [
    "Определить эффективность маркетинговых каналов по привлечению платящих игроков"
   ]
  },
  {
   "cell_type": "markdown",
   "id": "7efe105b",
   "metadata": {},
   "source": [
    "Определим какая доля от платящих пользователей была привлечена по каждому marketing_channel\n",
    "Показатель назовем efficiency_marketing_channel"
   ]
  },
  {
   "cell_type": "code",
   "execution_count": 77,
   "id": "7be3bdf3",
   "metadata": {},
   "outputs": [
    {
     "data": {
      "text/plain": [
       "marketing_channel\n",
       "Email        0.18\n",
       "Facebook     0.22\n",
       "House Ads    0.28\n",
       "Instagram    0.25\n",
       "Push         0.08\n",
       "Name: efficiency_marketing_channel, dtype: float64"
      ]
     },
     "execution_count": 77,
     "metadata": {},
     "output_type": "execute_result"
    }
   ],
   "source": [
    "result = joined_data.query('converted == True')[['marketing_channel', 'user_id']] \\\n",
    "                    .groupby('marketing_channel').count() \\\n",
    "                    .rename(columns ={'user_id': 'user_count'})\n",
    "result['efficiency_marketing_channel'] = result['user_count'] / result['user_count'].sum()\n",
    "result['efficiency_marketing_channel'] = result['efficiency_marketing_channel'].map(lambda x: round(x, 2))\n",
    "result['efficiency_marketing_channel']"
   ]
  },
  {
   "cell_type": "markdown",
   "id": "fb57e8ae",
   "metadata": {},
   "source": [
    "<h3>Ответ на задание 3:\n",
    "    \n",
    "<h6>Вклад каждого канала в привлечение платящих клиентов:\n",
    "    \n",
    "<h6>Email        = 0.18\n",
    "<h6>Facebook     = 0.22\n",
    "<h6>House Ads    = 0.28\n",
    "<h6>Instagram    = 0.25\n",
    "<h6>Push         = 0.08"
   ]
  },
  {
   "cell_type": "markdown",
   "id": "be932caf",
   "metadata": {},
   "source": [
    "<h3>Задание 4:"
   ]
  },
  {
   "cell_type": "markdown",
   "id": "cac8c386",
   "metadata": {},
   "source": [
    "Определить количество игроков в каждой возрастной группе"
   ]
  },
  {
   "cell_type": "code",
   "execution_count": 80,
   "id": "af0e5305",
   "metadata": {},
   "outputs": [
    {
     "data": {
      "text/html": [
       "<div>\n",
       "<style scoped>\n",
       "    .dataframe tbody tr th:only-of-type {\n",
       "        vertical-align: middle;\n",
       "    }\n",
       "\n",
       "    .dataframe tbody tr th {\n",
       "        vertical-align: top;\n",
       "    }\n",
       "\n",
       "    .dataframe thead th {\n",
       "        text-align: right;\n",
       "    }\n",
       "</style>\n",
       "<table border=\"1\" class=\"dataframe\">\n",
       "  <thead>\n",
       "    <tr style=\"text-align: right;\">\n",
       "      <th></th>\n",
       "      <th>user_count</th>\n",
       "    </tr>\n",
       "    <tr>\n",
       "      <th>age_group</th>\n",
       "      <th></th>\n",
       "    </tr>\n",
       "  </thead>\n",
       "  <tbody>\n",
       "    <tr>\n",
       "      <th>0-18 years</th>\n",
       "      <td>1539</td>\n",
       "    </tr>\n",
       "    <tr>\n",
       "      <th>19-24 years</th>\n",
       "      <td>1682</td>\n",
       "    </tr>\n",
       "    <tr>\n",
       "      <th>24-30 years</th>\n",
       "      <td>1568</td>\n",
       "    </tr>\n",
       "    <tr>\n",
       "      <th>30-36 years</th>\n",
       "      <td>1355</td>\n",
       "    </tr>\n",
       "    <tr>\n",
       "      <th>36-45 years</th>\n",
       "      <td>1353</td>\n",
       "    </tr>\n",
       "    <tr>\n",
       "      <th>45-55 years</th>\n",
       "      <td>1353</td>\n",
       "    </tr>\n",
       "    <tr>\n",
       "      <th>55+ years</th>\n",
       "      <td>1187</td>\n",
       "    </tr>\n",
       "  </tbody>\n",
       "</table>\n",
       "</div>"
      ],
      "text/plain": [
       "             user_count\n",
       "age_group              \n",
       "0-18 years         1539\n",
       "19-24 years        1682\n",
       "24-30 years        1568\n",
       "30-36 years        1355\n",
       "36-45 years        1353\n",
       "45-55 years        1353\n",
       "55+ years          1187"
      ]
     },
     "execution_count": 80,
     "metadata": {},
     "output_type": "execute_result"
    }
   ],
   "source": [
    "joined_data[['age_group', 'user_id']].groupby('age_group').count().rename(columns={'user_id': 'user_count'})"
   ]
  },
  {
   "cell_type": "markdown",
   "id": "1e7374ea",
   "metadata": {},
   "source": [
    "<h3>Задание 5:"
   ]
  },
  {
   "cell_type": "markdown",
   "id": "cc241592",
   "metadata": {},
   "source": [
    "Определить самую раннюю дату подписки на сервис"
   ]
  },
  {
   "cell_type": "markdown",
   "id": "715621f5",
   "metadata": {},
   "source": [
    "<h3>Ответ на задание 5:"
   ]
  },
  {
   "cell_type": "markdown",
   "id": "378f7d1a",
   "metadata": {},
   "source": [
    "Саммая ранняя дата подписки на сервис"
   ]
  },
  {
   "cell_type": "code",
   "execution_count": 92,
   "id": "94fbbd9c",
   "metadata": {},
   "outputs": [
    {
     "data": {
      "text/plain": [
       "Timestamp('2018-01-01 00:00:00')"
      ]
     },
     "execution_count": 92,
     "metadata": {},
     "output_type": "execute_result"
    }
   ],
   "source": [
    "pd.to_datetime(joined_data['date_subscribed']).min()"
   ]
  },
  {
   "cell_type": "markdown",
   "id": "fc4363e9",
   "metadata": {},
   "source": [
    "<h3>Задание 6:"
   ]
  },
  {
   "cell_type": "markdown",
   "id": "21efada3",
   "metadata": {},
   "source": [
    "Определить портрет аудитории удержанных подписчиков (по возрасту и языку)"
   ]
  },
  {
   "cell_type": "code",
   "execution_count": 93,
   "id": "8eef95f6",
   "metadata": {
    "scrolled": true
   },
   "outputs": [
    {
     "data": {
      "text/html": [
       "<div>\n",
       "<style scoped>\n",
       "    .dataframe tbody tr th:only-of-type {\n",
       "        vertical-align: middle;\n",
       "    }\n",
       "\n",
       "    .dataframe tbody tr th {\n",
       "        vertical-align: top;\n",
       "    }\n",
       "\n",
       "    .dataframe thead th {\n",
       "        text-align: right;\n",
       "    }\n",
       "</style>\n",
       "<table border=\"1\" class=\"dataframe\">\n",
       "  <thead>\n",
       "    <tr style=\"text-align: right;\">\n",
       "      <th></th>\n",
       "      <th>user_id</th>\n",
       "      <th>date_served</th>\n",
       "      <th>marketing_channel</th>\n",
       "      <th>variant</th>\n",
       "      <th>language_displayed</th>\n",
       "      <th>converted</th>\n",
       "      <th>age_group</th>\n",
       "      <th>language_preferred</th>\n",
       "      <th>subscribing_channel</th>\n",
       "      <th>date_subscribed</th>\n",
       "      <th>date_canceled</th>\n",
       "      <th>is_retained</th>\n",
       "    </tr>\n",
       "  </thead>\n",
       "  <tbody>\n",
       "    <tr>\n",
       "      <th>0</th>\n",
       "      <td>a1000</td>\n",
       "      <td>1/1/18</td>\n",
       "      <td>House Ads</td>\n",
       "      <td>personalization</td>\n",
       "      <td>English</td>\n",
       "      <td>True</td>\n",
       "      <td>0-18 years</td>\n",
       "      <td>English</td>\n",
       "      <td>House Ads</td>\n",
       "      <td>1/1/18</td>\n",
       "      <td>NaN</td>\n",
       "      <td>True</td>\n",
       "    </tr>\n",
       "    <tr>\n",
       "      <th>1</th>\n",
       "      <td>a1001</td>\n",
       "      <td>1/1/18</td>\n",
       "      <td>House Ads</td>\n",
       "      <td>personalization</td>\n",
       "      <td>English</td>\n",
       "      <td>True</td>\n",
       "      <td>19-24 years</td>\n",
       "      <td>English</td>\n",
       "      <td>House Ads</td>\n",
       "      <td>1/1/18</td>\n",
       "      <td>NaN</td>\n",
       "      <td>True</td>\n",
       "    </tr>\n",
       "  </tbody>\n",
       "</table>\n",
       "</div>"
      ],
      "text/plain": [
       "  user_id date_served marketing_channel          variant language_displayed  \\\n",
       "0   a1000      1/1/18         House Ads  personalization            English   \n",
       "1   a1001      1/1/18         House Ads  personalization            English   \n",
       "\n",
       "  converted    age_group language_preferred subscribing_channel  \\\n",
       "0      True   0-18 years            English           House Ads   \n",
       "1      True  19-24 years            English           House Ads   \n",
       "\n",
       "  date_subscribed date_canceled is_retained  \n",
       "0          1/1/18           NaN        True  \n",
       "1          1/1/18           NaN        True  "
      ]
     },
     "execution_count": 93,
     "metadata": {},
     "output_type": "execute_result"
    }
   ],
   "source": [
    "joined_data.head(2)"
   ]
  },
  {
   "cell_type": "markdown",
   "id": "9559b07c",
   "metadata": {},
   "source": [
    "DataFrame.pivot_table(values=None, index=None, columns=None, aggfunc='mean', fill_value=None, margins=False, dropna=True, margins_name='All', observed=False, sort=True)[source]"
   ]
  },
  {
   "cell_type": "code",
   "execution_count": 133,
   "id": "25705dc0",
   "metadata": {},
   "outputs": [],
   "source": [
    "pivot = joined_data.query('(is_retained == True)')[['age_group', 'language_preferred','user_id']] \\\n",
    "            .pivot_table(values='user_id', index='age_group', columns='language_preferred', aggfunc='count', fill_value=0)"
   ]
  },
  {
   "cell_type": "code",
   "execution_count": 136,
   "id": "5118f607",
   "metadata": {},
   "outputs": [],
   "source": [
    "pivot = pivot / pivot.sum(axis = 0)\n",
    "pivot = pivot.applymap(lambda x: f'{round(x * 100, 1)} %')"
   ]
  },
  {
   "cell_type": "markdown",
   "id": "c2ad2158",
   "metadata": {},
   "source": [
    "<h3>Ответ на задание 3:"
   ]
  },
  {
   "cell_type": "markdown",
   "id": "f49811cc",
   "metadata": {},
   "source": [
    "Сводная таблица распрделения языков по возрастным группам"
   ]
  },
  {
   "cell_type": "code",
   "execution_count": 138,
   "id": "5af2f627",
   "metadata": {},
   "outputs": [
    {
     "data": {
      "text/html": [
       "<div>\n",
       "<style scoped>\n",
       "    .dataframe tbody tr th:only-of-type {\n",
       "        vertical-align: middle;\n",
       "    }\n",
       "\n",
       "    .dataframe tbody tr th {\n",
       "        vertical-align: top;\n",
       "    }\n",
       "\n",
       "    .dataframe thead th {\n",
       "        text-align: right;\n",
       "    }\n",
       "</style>\n",
       "<table border=\"1\" class=\"dataframe\">\n",
       "  <thead>\n",
       "    <tr style=\"text-align: right;\">\n",
       "      <th>language_preferred</th>\n",
       "      <th>Arabic</th>\n",
       "      <th>English</th>\n",
       "      <th>German</th>\n",
       "      <th>Spanish</th>\n",
       "    </tr>\n",
       "    <tr>\n",
       "      <th>age_group</th>\n",
       "      <th></th>\n",
       "      <th></th>\n",
       "      <th></th>\n",
       "      <th></th>\n",
       "    </tr>\n",
       "  </thead>\n",
       "  <tbody>\n",
       "    <tr>\n",
       "      <th>0-18 years</th>\n",
       "      <td>25.0 %</td>\n",
       "      <td>17.8 %</td>\n",
       "      <td>22.7 %</td>\n",
       "      <td>13.6 %</td>\n",
       "    </tr>\n",
       "    <tr>\n",
       "      <th>19-24 years</th>\n",
       "      <td>8.3 %</td>\n",
       "      <td>25.8 %</td>\n",
       "      <td>25.0 %</td>\n",
       "      <td>22.7 %</td>\n",
       "    </tr>\n",
       "    <tr>\n",
       "      <th>24-30 years</th>\n",
       "      <td>25.0 %</td>\n",
       "      <td>21.2 %</td>\n",
       "      <td>34.1 %</td>\n",
       "      <td>11.4 %</td>\n",
       "    </tr>\n",
       "    <tr>\n",
       "      <th>30-36 years</th>\n",
       "      <td>0.0 %</td>\n",
       "      <td>9.7 %</td>\n",
       "      <td>2.3 %</td>\n",
       "      <td>15.9 %</td>\n",
       "    </tr>\n",
       "    <tr>\n",
       "      <th>36-45 years</th>\n",
       "      <td>8.3 %</td>\n",
       "      <td>9.1 %</td>\n",
       "      <td>4.5 %</td>\n",
       "      <td>11.4 %</td>\n",
       "    </tr>\n",
       "    <tr>\n",
       "      <th>45-55 years</th>\n",
       "      <td>16.7 %</td>\n",
       "      <td>9.2 %</td>\n",
       "      <td>6.8 %</td>\n",
       "      <td>13.6 %</td>\n",
       "    </tr>\n",
       "    <tr>\n",
       "      <th>55+ years</th>\n",
       "      <td>16.7 %</td>\n",
       "      <td>7.3 %</td>\n",
       "      <td>4.5 %</td>\n",
       "      <td>11.4 %</td>\n",
       "    </tr>\n",
       "  </tbody>\n",
       "</table>\n",
       "</div>"
      ],
      "text/plain": [
       "language_preferred  Arabic English  German Spanish\n",
       "age_group                                         \n",
       "0-18 years          25.0 %  17.8 %  22.7 %  13.6 %\n",
       "19-24 years          8.3 %  25.8 %  25.0 %  22.7 %\n",
       "24-30 years         25.0 %  21.2 %  34.1 %  11.4 %\n",
       "30-36 years          0.0 %   9.7 %   2.3 %  15.9 %\n",
       "36-45 years          8.3 %   9.1 %   4.5 %  11.4 %\n",
       "45-55 years         16.7 %   9.2 %   6.8 %  13.6 %\n",
       "55+ years           16.7 %   7.3 %   4.5 %  11.4 %"
      ]
     },
     "execution_count": 138,
     "metadata": {},
     "output_type": "execute_result"
    }
   ],
   "source": [
    "pivot"
   ]
  },
  {
   "cell_type": "code",
   "execution_count": null,
   "id": "8d440e1e",
   "metadata": {},
   "outputs": [],
   "source": []
  },
  {
   "cell_type": "code",
   "execution_count": null,
   "id": "d92e0763",
   "metadata": {},
   "outputs": [],
   "source": []
  },
  {
   "cell_type": "code",
   "execution_count": null,
   "id": "52e1f599",
   "metadata": {},
   "outputs": [],
   "source": []
  },
  {
   "cell_type": "code",
   "execution_count": null,
   "id": "c948dfbc",
   "metadata": {},
   "outputs": [],
   "source": []
  }
 ],
 "metadata": {
  "kernelspec": {
   "display_name": "Python 3 (ipykernel)",
   "language": "python",
   "name": "python3"
  },
  "language_info": {
   "codemirror_mode": {
    "name": "ipython",
    "version": 3
   },
   "file_extension": ".py",
   "mimetype": "text/x-python",
   "name": "python",
   "nbconvert_exporter": "python",
   "pygments_lexer": "ipython3",
   "version": "3.9.12"
  }
 },
 "nbformat": 4,
 "nbformat_minor": 5
}
